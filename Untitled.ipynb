{
 "cells": [
  {
   "cell_type": "code",
   "execution_count": 5,
   "id": "ce3a9881",
   "metadata": {},
   "outputs": [],
   "source": [
    "from xpp2python import *\n",
    "from model import *\n",
    "from dynamics import *\n",
    "%matplotlib qt"
   ]
  },
  {
   "cell_type": "code",
   "execution_count": 6,
   "id": "fb1824cb",
   "metadata": {},
   "outputs": [],
   "source": [
    "info=read_info('model.ode.pars')"
   ]
  },
  {
   "cell_type": "code",
   "execution_count": 7,
   "id": "8003214b",
   "metadata": {},
   "outputs": [
    {
     "name": "stdout",
     "output_type": "stream",
     "text": [
      "Simulation done\n"
     ]
    }
   ],
   "source": [
    "sol=simul(odefun=odde, tspan=[t0,tend], y0=y0, pars=pars,info=info)"
   ]
  },
  {
   "cell_type": "code",
   "execution_count": 8,
   "id": "81ad65a8",
   "metadata": {},
   "outputs": [
    {
     "name": "stdout",
     "output_type": "stream",
     "text": [
      "Simulation done\n"
     ]
    }
   ],
   "source": [
    "pars_temp=pars.copy()\n",
    "pars_temp['inc_i1']=0.75\n",
    "pars_temp['it1']=300\n",
    "\n",
    "sol=simul(odefun=odde, tspan=[t0,tend], y0=y0, pars=pars_temp,info=info, fign=1, keep_old=True)"
   ]
  },
  {
   "cell_type": "code",
   "execution_count": null,
   "id": "d8d45fbb",
   "metadata": {},
   "outputs": [],
   "source": []
  }
 ],
 "metadata": {
  "kernelspec": {
   "display_name": "Python 3 (ipykernel)",
   "language": "python",
   "name": "python3"
  },
  "language_info": {
   "codemirror_mode": {
    "name": "ipython",
    "version": 3
   },
   "file_extension": ".py",
   "mimetype": "text/x-python",
   "name": "python",
   "nbconvert_exporter": "python",
   "pygments_lexer": "ipython3",
   "version": "3.10.11"
  }
 },
 "nbformat": 4,
 "nbformat_minor": 5
}
